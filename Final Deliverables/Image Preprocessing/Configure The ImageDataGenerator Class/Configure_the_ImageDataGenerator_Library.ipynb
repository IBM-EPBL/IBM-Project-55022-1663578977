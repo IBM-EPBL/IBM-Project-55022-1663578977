{
  "nbformat": 4,
  "nbformat_minor": 0,
  "metadata": {
    "colab": {
      "provenance": []
    },
    "kernelspec": {
      "name": "python3",
      "display_name": "Python 3"
    },
    "language_info": {
      "name": "python"
    }
  },
  "cells": [
    {
      "cell_type": "code",
      "source": [
        "from google.colab import drive\n",
        "drive.mount('/content/drive')"
      ],
      "metadata": {
        "colab": {
          "base_uri": "https://localhost:8080/"
        },
        "id": "LqlYtFEG4lIb",
        "outputId": "ab573a39-5cc4-4eb2-92b4-894ecfae010b"
      },
      "execution_count": 2,
      "outputs": [
        {
          "output_type": "stream",
          "name": "stdout",
          "text": [
            "Mounted at /content/drive\n"
          ]
        }
      ]
    },
    {
      "cell_type": "markdown",
      "source": [
        "**Import The ImageDataGenerator Library**"
      ],
      "metadata": {
        "id": "ocSPV_MP6L_a"
      }
    },
    {
      "cell_type": "code",
      "execution_count": 1,
      "metadata": {
        "id": "muXSylbl4aCW"
      },
      "outputs": [],
      "source": [
        "from keras.preprocessing.image import ImageDataGenerator"
      ]
    },
    {
      "cell_type": "markdown",
      "source": [
        "**Configure ImageDataGenerator Class**"
      ],
      "metadata": {
        "id": "2_B_N0s76hNQ"
      }
    },
    {
      "cell_type": "code",
      "source": [
        "train_datagon=ImageDataGenerator(rescale=1./255,shear_range=0.2,zoom_range=0.2,horizontal_flip=True)\n",
        "test_datagon=ImageDataGenerator(rescale=1./255)"
      ],
      "metadata": {
        "id": "Y_Cmlnae619J"
      },
      "execution_count": 3,
      "outputs": []
    }
  ]
}