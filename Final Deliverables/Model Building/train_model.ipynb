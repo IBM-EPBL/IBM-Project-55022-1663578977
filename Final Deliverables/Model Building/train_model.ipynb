{
  "nbformat": 4,
  "nbformat_minor": 0,
  "metadata": {
    "colab": {
      "provenance": []
    },
    "kernelspec": {
      "name": "python3",
      "display_name": "Python 3"
    },
    "language_info": {
      "name": "python"
    }
  },
  "cells": [
    {
      "cell_type": "code",
      "execution_count": null,
      "metadata": {
        "id": "W8UIjO9syyMP"
      },
      "outputs": [],
      "source": [
        "#Training the model\n",
        "history = model.fit(x_train,epochs=20,\n",
        "                    steps_per_epoch=len(x_train),\n",
        "                    validation_data=x_test,validation_steps=len(x_test))"
      ]
    }
  ]
}