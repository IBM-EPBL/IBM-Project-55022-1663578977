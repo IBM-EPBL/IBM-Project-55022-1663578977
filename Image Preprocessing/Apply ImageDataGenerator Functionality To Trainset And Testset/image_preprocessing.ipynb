{
  "nbformat": 4,
  "nbformat_minor": 0,
  "metadata": {
    "colab": {
      "provenance": []
    },
    "kernelspec": {
      "name": "python3",
      "display_name": "Python 3"
    },
    "language_info": {
      "name": "python"
    }
  },
  "cells": [
    {
      "cell_type": "code",
      "execution_count": 1,
      "metadata": {
        "colab": {
          "base_uri": "https://localhost:8080/"
        },
        "id": "-nKMr95As9uc",
        "outputId": "ea4a7d0d-0d97-438d-d7e1-2cd43f778f1a"
      },
      "outputs": [
        {
          "output_type": "stream",
          "name": "stdout",
          "text": [
            "Mounted at /content/drive\n"
          ]
        }
      ],
      "source": [
        "from google.colab import drive\n",
        "drive.mount('/content/drive')"
      ]
    },
    {
      "cell_type": "code",
      "source": [
        "#Import ImageDatageneratorLibrary\n",
        "\n",
        "from keras.preprocessing.image import ImageDataGenerator"
      ],
      "metadata": {
        "id": "q9kvvr6otCKJ"
      },
      "execution_count": 2,
      "outputs": []
    },
    {
      "cell_type": "code",
      "source": [
        "#configure ImageDatGenerator Class \n",
        "#Define the parameters/arguments for ImageDataGenerator class\n",
        "train_datagen=ImageDataGenerator(rescale=1./255,\n",
        "                                 shear_range=0.2,\n",
        "                                 rotation_range=180,\n",
        "                                 zoom_range=0.2,\n",
        "                                 width_shift_range=0.2,\n",
        "                                height_shift_range=0.2,\n",
        "                                 horizontal_flip=True)\n",
        "test_datagen=ImageDataGenerator(rescale=1./255)"
      ],
      "metadata": {
        "id": "A0HcvxLxtFA7"
      },
      "execution_count": 3,
      "outputs": []
    },
    {
      "cell_type": "code",
      "source": [
        "#Applying ImageDataGenerator functionality to train data \n",
        "\n",
        "x_train =train_datagen.flow_from_directory(r\"/content/drive/MyDrive/dataset/train_set\",\n",
        "                                           target_size = (64,64),\n",
        "                                           batch_size=5,\n",
        "                                           color_mode='rgb',\n",
        "                                           class_mode='categorical')"
      ],
      "metadata": {
        "colab": {
          "base_uri": "https://localhost:8080/"
        },
        "id": "STOxQZ3ftK2I",
        "outputId": "edd3a67a-2b37-4d46-9a83-4328d59f1b5f"
      },
      "execution_count": 4,
      "outputs": [
        {
          "output_type": "stream",
          "name": "stdout",
          "text": [
            "Found 742 images belonging to 4 classes.\n"
          ]
        }
      ]
    },
    {
      "cell_type": "code",
      "source": [
        "#Applying ImageDataGenerator functionality to test data \n",
        "\n",
        "x_test =test_datagen.flow_from_directory(r\"/content/drive/MyDrive/dataset/test_set\",\n",
        "                                         target_size = (64,64), \n",
        "                                         batch_size=5,color_mode='rgb',\n",
        "                                         class_mode='categorical')"
      ],
      "metadata": {
        "colab": {
          "base_uri": "https://localhost:8080/"
        },
        "id": "IzU4RsCAtMsG",
        "outputId": "24e4e007-0d49-4723-c4dd-5070b3ed5654"
      },
      "execution_count": 5,
      "outputs": [
        {
          "output_type": "stream",
          "name": "stdout",
          "text": [
            "Found 198 images belonging to 4 classes.\n"
          ]
        }
      ]
    }
  ]
}