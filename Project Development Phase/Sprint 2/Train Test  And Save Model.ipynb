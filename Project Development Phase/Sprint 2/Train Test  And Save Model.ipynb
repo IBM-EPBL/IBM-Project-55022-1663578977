{
  "cells": [
    {
      "cell_type": "code",
      "execution_count": 20,
      "metadata": {
        "id": "BvUoeuuT8J1T"
      },
      "outputs": [],
      "source": [
        "from keras.preprocessing.image import ImageDataGenerator \n",
        "train_datagen = ImageDataGenerator(rescale = 1./255, shear_range= 0.2,zoom_range= 0.2, horizontal_flip = True) \n",
        "test_datagen =ImageDataGenerator(rescale=1)\n"
      ]
    },
    {
      "cell_type": "code",
      "execution_count": 21,
      "metadata": {
        "colab": {
          "base_uri": "https://localhost:8080/"
        },
        "id": "GPGQ-N_I8a2_",
        "outputId": "c0adb99b-3796-4b20-ccef-8bc22438cc7c"
      },
      "outputs": [
        {
          "output_type": "stream",
          "name": "stdout",
          "text": [
            "Found 219 images belonging to 4 classes.\n",
            "Found 101 images belonging to 4 classes.\n"
          ]
        }
      ],
      "source": [
        "x_train = train_datagen.flow_from_directory(r'/content/drive/MyDrive/data set/train_set',target_size = (64,64), batch_size = 32, class_mode ='categorical')\n",
        "x_test = test_datagen.flow_from_directory(r'/content/drive/MyDrive/data set/test_set',target_size = (64,64), batch_size = 32, class_mode ='categorical')"
      ]
    },
    {
      "cell_type": "code",
      "execution_count": 22,
      "metadata": {
        "id": "Gk24DkpcCXg2"
      },
      "outputs": [],
      "source": [
        "import numpy as np\n",
        "import tensorflow\n",
        "from tensorflow.keras.models import Sequential\n",
        "from tensorflow.keras import layers\n",
        "from tensorflow.keras.layers import Dense,Flatten\n",
        "from tensorflow.keras.layers import Conv2D,MaxPooling2D\n",
        "from keras.preprocessing.image import ImageDataGenerator"
      ]
    },
    {
      "cell_type": "code",
      "execution_count": 23,
      "metadata": {
        "id": "escDbaSvAZ4w"
      },
      "outputs": [],
      "source": [
        "model=Sequential()"
      ]
    },
    {
      "cell_type": "code",
      "execution_count": 24,
      "metadata": {
        "id": "HQ57GbaYECF-"
      },
      "outputs": [],
      "source": [
        "model.add(Conv2D(32, (3, 3), input_shape=(64, 64, 3), activation='relu'))\n",
        "model.add(MaxPooling2D(pool_size=(2, 2)))\n",
        "model.add(Conv2D(32, (3, 3), activation='relu'))\n",
        "model.add(MaxPooling2D(pool_size=(2, 2)))\n",
        "model.add(Flatten())"
      ]
    },
    {
      "cell_type": "code",
      "source": [
        "model.add(Dense (units=128, activation='relu')) \n",
        "model.add(Dense (units=4, activation='softmax'))"
      ],
      "metadata": {
        "id": "90LEx4t_FCYA"
      },
      "execution_count": 25,
      "outputs": []
    },
    {
      "cell_type": "code",
      "source": [
        "model.summary()"
      ],
      "metadata": {
        "colab": {
          "base_uri": "https://localhost:8080/"
        },
        "id": "ROcybK7tFLoG",
        "outputId": "22f15e72-e2b2-4e34-a85d-d5e911e70e86"
      },
      "execution_count": 26,
      "outputs": [
        {
          "output_type": "stream",
          "name": "stdout",
          "text": [
            "Model: \"sequential\"\n",
            "_________________________________________________________________\n",
            " Layer (type)                Output Shape              Param #   \n",
            "=================================================================\n",
            " conv2d (Conv2D)             (None, 62, 62, 32)        896       \n",
            "                                                                 \n",
            " max_pooling2d (MaxPooling2D  (None, 31, 31, 32)       0         \n",
            " )                                                               \n",
            "                                                                 \n",
            " conv2d_1 (Conv2D)           (None, 29, 29, 32)        9248      \n",
            "                                                                 \n",
            " max_pooling2d_1 (MaxPooling  (None, 14, 14, 32)       0         \n",
            " 2D)                                                             \n",
            "                                                                 \n",
            " flatten (Flatten)           (None, 6272)              0         \n",
            "                                                                 \n",
            " dense (Dense)               (None, 128)               802944    \n",
            "                                                                 \n",
            " dense_1 (Dense)             (None, 4)                 516       \n",
            "                                                                 \n",
            "=================================================================\n",
            "Total params: 813,604\n",
            "Trainable params: 813,604\n",
            "Non-trainable params: 0\n",
            "_________________________________________________________________\n"
          ]
        }
      ]
    },
    {
      "cell_type": "code",
      "source": [
        "model.compile(optimizer='adam', loss='categorical_crossentropy', metrics=['accuracy'])"
      ],
      "metadata": {
        "id": "kbCHPPotF-5J"
      },
      "execution_count": 27,
      "outputs": []
    },
    {
      "cell_type": "code",
      "source": [
        "model.fit_generator(x_train, steps_per_epoch = len(x_train), validation_data=x_test, validation_steps = len(x_test),epochs=20)"
      ],
      "metadata": {
        "colab": {
          "base_uri": "https://localhost:8080/"
        },
        "id": "R4J-2EHrNgxP",
        "outputId": "c8cf415a-ee97-4520-f0a3-19dba8190f15"
      },
      "execution_count": 32,
      "outputs": [
        {
          "output_type": "stream",
          "name": "stderr",
          "text": [
            "/usr/local/lib/python3.7/dist-packages/ipykernel_launcher.py:1: UserWarning: `Model.fit_generator` is deprecated and will be removed in a future version. Please use `Model.fit`, which supports generators.\n",
            "  \"\"\"Entry point for launching an IPython kernel.\n"
          ]
        },
        {
          "output_type": "stream",
          "name": "stdout",
          "text": [
            "Epoch 1/20\n",
            "7/7 [==============================] - 17s 2s/step - loss: 0.0938 - accuracy: 0.9589 - val_loss: 3555.6353 - val_accuracy: 0.0000e+00\n",
            "Epoch 2/20\n",
            "7/7 [==============================] - 12s 2s/step - loss: 0.0733 - accuracy: 0.9772 - val_loss: 3995.5928 - val_accuracy: 0.0000e+00\n",
            "Epoch 3/20\n",
            "7/7 [==============================] - 13s 2s/step - loss: 0.0563 - accuracy: 0.9817 - val_loss: 4160.4390 - val_accuracy: 0.0000e+00\n",
            "Epoch 4/20\n",
            "7/7 [==============================] - 12s 2s/step - loss: 0.0618 - accuracy: 0.9863 - val_loss: 4386.6675 - val_accuracy: 0.0000e+00\n",
            "Epoch 5/20\n",
            "7/7 [==============================] - 14s 2s/step - loss: 0.0496 - accuracy: 0.9772 - val_loss: 4588.7544 - val_accuracy: 0.0000e+00\n",
            "Epoch 6/20\n",
            "7/7 [==============================] - 12s 2s/step - loss: 0.0585 - accuracy: 0.9772 - val_loss: 4301.6426 - val_accuracy: 0.0000e+00\n",
            "Epoch 7/20\n",
            "7/7 [==============================] - 12s 2s/step - loss: 0.0540 - accuracy: 0.9817 - val_loss: 4352.8071 - val_accuracy: 0.0000e+00\n",
            "Epoch 8/20\n",
            "7/7 [==============================] - 12s 2s/step - loss: 0.0458 - accuracy: 0.9909 - val_loss: 4532.0503 - val_accuracy: 0.0000e+00\n",
            "Epoch 9/20\n",
            "7/7 [==============================] - 12s 2s/step - loss: 0.0608 - accuracy: 0.9726 - val_loss: 4555.2310 - val_accuracy: 0.0000e+00\n",
            "Epoch 10/20\n",
            "7/7 [==============================] - 14s 2s/step - loss: 0.0782 - accuracy: 0.9680 - val_loss: 4383.5093 - val_accuracy: 0.0000e+00\n",
            "Epoch 11/20\n",
            "7/7 [==============================] - 12s 2s/step - loss: 0.0452 - accuracy: 0.9863 - val_loss: 4114.9834 - val_accuracy: 0.0000e+00\n",
            "Epoch 12/20\n",
            "7/7 [==============================] - 12s 2s/step - loss: 0.0484 - accuracy: 0.9817 - val_loss: 3767.9441 - val_accuracy: 0.0000e+00\n",
            "Epoch 13/20\n",
            "7/7 [==============================] - 12s 2s/step - loss: 0.0518 - accuracy: 0.9817 - val_loss: 3740.7976 - val_accuracy: 0.0000e+00\n",
            "Epoch 14/20\n",
            "7/7 [==============================] - 12s 2s/step - loss: 0.0450 - accuracy: 0.9863 - val_loss: 4219.8696 - val_accuracy: 0.0000e+00\n",
            "Epoch 15/20\n",
            "7/7 [==============================] - 12s 2s/step - loss: 0.0321 - accuracy: 0.9954 - val_loss: 4549.9243 - val_accuracy: 0.0000e+00\n",
            "Epoch 16/20\n",
            "7/7 [==============================] - 14s 2s/step - loss: 0.0311 - accuracy: 0.9954 - val_loss: 4668.2285 - val_accuracy: 0.0000e+00\n",
            "Epoch 17/20\n",
            "7/7 [==============================] - 12s 2s/step - loss: 0.0284 - accuracy: 0.9954 - val_loss: 4765.9810 - val_accuracy: 0.0000e+00\n",
            "Epoch 18/20\n",
            "7/7 [==============================] - 12s 2s/step - loss: 0.0208 - accuracy: 1.0000 - val_loss: 4723.3511 - val_accuracy: 0.0000e+00\n",
            "Epoch 19/20\n",
            "7/7 [==============================] - 18s 3s/step - loss: 0.0266 - accuracy: 0.9954 - val_loss: 4944.4897 - val_accuracy: 0.0000e+00\n",
            "Epoch 20/20\n",
            "7/7 [==============================] - 12s 2s/step - loss: 0.0257 - accuracy: 1.0000 - val_loss: 4729.2271 - val_accuracy: 0.0000e+00\n"
          ]
        },
        {
          "output_type": "execute_result",
          "data": {
            "text/plain": [
              "<keras.callbacks.History at 0x7fece85f39d0>"
            ]
          },
          "metadata": {},
          "execution_count": 32
        }
      ]
    },
    {
      "cell_type": "code",
      "source": [
        "model.save('disaster.h5')\n",
        "model_json = model.to_json() \n",
        "with open(\"model-bw.json\", \"w\") as json_file: \n",
        "  json_file.write(model_json)"
      ],
      "metadata": {
        "id": "o_iJiAnGPbfZ"
      },
      "execution_count": 33,
      "outputs": []
    },
    {
      "cell_type": "code",
      "source": [
        "from tensorflow.keras.models import load_model\n",
        "from tensorflow.keras.preprocessing import image\n",
        "model = load_model(\"disaster.h5\")"
      ],
      "metadata": {
        "id": "C2XgpkrzQGPg"
      },
      "execution_count": 38,
      "outputs": []
    },
    {
      "cell_type": "code",
      "source": [
        "ls"
      ],
      "metadata": {
        "colab": {
          "base_uri": "https://localhost:8080/"
        },
        "id": "pyWYSofAdcff",
        "outputId": "2a38c214-168e-46a2-a9d7-1d74aaa59853"
      },
      "execution_count": 7,
      "outputs": [
        {
          "output_type": "stream",
          "name": "stdout",
          "text": [
            "\u001b[0m\u001b[01;34mdrive\u001b[0m/  \u001b[01;34msample_data\u001b[0m/\n"
          ]
        }
      ]
    },
    {
      "cell_type": "code",
      "source": [
        "cd /content/drive/MyDrive/data set\n"
      ],
      "metadata": {
        "colab": {
          "base_uri": "https://localhost:8080/"
        },
        "id": "KyuHtWN1-YxA",
        "outputId": "8f3e3893-418b-4f2b-ba11-b5b86de2c9d9"
      },
      "execution_count": 15,
      "outputs": [
        {
          "output_type": "stream",
          "name": "stdout",
          "text": [
            "/content/drive/MyDrive/data set\n"
          ]
        }
      ]
    },
    {
      "cell_type": "code",
      "source": [
        "ls"
      ],
      "metadata": {
        "colab": {
          "base_uri": "https://localhost:8080/"
        },
        "id": "-7esbaCY-m3d",
        "outputId": "bba7c950-23f4-45f3-f691-dc5be4241af2"
      },
      "execution_count": 16,
      "outputs": [
        {
          "output_type": "stream",
          "name": "stdout",
          "text": [
            "\u001b[0m\u001b[01;34mtest_set\u001b[0m/  \u001b[01;34mtrain_set\u001b[0m/\n"
          ]
        }
      ]
    },
    {
      "cell_type": "code",
      "source": [
        "pwd"
      ],
      "metadata": {
        "colab": {
          "base_uri": "https://localhost:8080/",
          "height": 36
        },
        "id": "2_4tW0Y2-rs9",
        "outputId": "777ecc21-99d9-42d0-ca90-bbcaaccd3b67"
      },
      "execution_count": 17,
      "outputs": [
        {
          "output_type": "execute_result",
          "data": {
            "text/plain": [
              "'/content/drive/MyDrive/data set'"
            ],
            "application/vnd.google.colaboratory.intrinsic+json": {
              "type": "string"
            }
          },
          "metadata": {},
          "execution_count": 17
        }
      ]
    },
    {
      "cell_type": "code",
      "source": [
        "x_train.class_indices\n"
      ],
      "metadata": {
        "colab": {
          "base_uri": "https://localhost:8080/"
        },
        "id": "perg0t2m_aJe",
        "outputId": "c5778939-c095-4310-d887-343413f06e4b"
      },
      "execution_count": 31,
      "outputs": [
        {
          "output_type": "execute_result",
          "data": {
            "text/plain": [
              "{'Cyclone': 0, 'Earthquake': 1, 'Flood': 2, 'Wildfire': 3}"
            ]
          },
          "metadata": {},
          "execution_count": 31
        }
      ]
    },
    {
      "cell_type": "code",
      "source": [
        "model = load_model('disaster.h5')"
      ],
      "metadata": {
        "id": "pGASgSjFhWM9"
      },
      "execution_count": 35,
      "outputs": []
    },
    {
      "cell_type": "code",
      "source": [
        "img = image.load_img('/content/drive/MyDrive/data set/test_set/Cyclone/870.jpg',target_size=(64,64))\n",
        "x=image.img_to_array(img)\n",
        "x=np.expand_dims(x,axis=0)\n",
        "index=['Cyclone','Earthquake','Flood','Wildfire']\n",
        "y=np.argmax(model.predict(x),axis=1)\n",
        "print(index[int(y)])"
      ],
      "metadata": {
        "colab": {
          "base_uri": "https://localhost:8080/"
        },
        "id": "pwhbLcDVIfHk",
        "outputId": "20bed279-e340-43b0-bb43-9f39c35c447e"
      },
      "execution_count": 42,
      "outputs": [
        {
          "output_type": "stream",
          "name": "stdout",
          "text": [
            "1/1 [==============================] - 0s 23ms/step\n",
            "Flood\n"
          ]
        }
      ]
    },
    {
      "cell_type": "code",
      "source": [
        "img = image.load_img('/content/drive/MyDrive/data set/test_set/Earthquake/1321.jpg',target_size=(64,64))\n",
        "x=image.img_to_array(img)\n",
        "x=np.expand_dims(x,axis=0)\n",
        "index=['Cyclone','Earthquake','Flood','Wildfire']\n",
        "y=np.argmax(model.predict(x),axis=1)\n",
        "print(index[int(y)])\n"
      ],
      "metadata": {
        "colab": {
          "base_uri": "https://localhost:8080/"
        },
        "id": "9XFra-rfBmZ_",
        "outputId": "21ee0fe7-e612-4cf5-9284-7db64d4d1a34"
      },
      "execution_count": 39,
      "outputs": [
        {
          "output_type": "stream",
          "name": "stdout",
          "text": [
            "1/1 [==============================] - 0s 113ms/step\n",
            "Flood\n"
          ]
        }
      ]
    },
    {
      "cell_type": "code",
      "source": [
        "img = image.load_img('/content/drive/MyDrive/data set/test_set/Flood/1001.jpg',target_size=(64,64))\n",
        "x=image.img_to_array(img)\n",
        "x=np.expand_dims(x,axis=0)\n",
        "index=['Cyclone','Earthquake','Flood','Wildfire']\n",
        "y=np.argmax(model.predict(x),axis=1)\n",
        "print(index[int(y)])"
      ],
      "metadata": {
        "colab": {
          "base_uri": "https://localhost:8080/"
        },
        "id": "VLFtI6vqH7vh",
        "outputId": "4006a6f7-af04-462b-9606-ea71e4747247"
      },
      "execution_count": 40,
      "outputs": [
        {
          "output_type": "stream",
          "name": "stdout",
          "text": [
            "1/1 [==============================] - 0s 21ms/step\n",
            "Flood\n"
          ]
        }
      ]
    },
    {
      "cell_type": "code",
      "source": [
        "img = image.load_img('/content/drive/MyDrive/data set/test_set/Wildfire/1036.jpg',target_size=(64,64))\n",
        "x=image.img_to_array(img)\n",
        "x=np.expand_dims(x,axis=0)\n",
        "index=['Cyclone','Earthquake','Flood','Wildfire']\n",
        "y=np.argmax(model.predict(x),axis=1)\n",
        "print(index[int(y)])"
      ],
      "metadata": {
        "colab": {
          "base_uri": "https://localhost:8080/"
        },
        "id": "Tca_pFWyIPP-",
        "outputId": "928b2654-fd60-4579-c88a-37e1db5b52ab"
      },
      "execution_count": 48,
      "outputs": [
        {
          "output_type": "stream",
          "name": "stdout",
          "text": [
            "1/1 [==============================] - 0s 23ms/step\n",
            "Wildfire\n"
          ]
        }
      ]
    },
    {
      "cell_type": "code",
      "source": [
        "'cyclone'"
      ],
      "metadata": {
        "colab": {
          "base_uri": "https://localhost:8080/",
          "height": 36
        },
        "id": "9VDHCUOILa3i",
        "outputId": "8696d6dc-7c76-4340-8f6c-608018a7d817"
      },
      "execution_count": 49,
      "outputs": [
        {
          "output_type": "execute_result",
          "data": {
            "text/plain": [
              "'cyclone'"
            ],
            "application/vnd.google.colaboratory.intrinsic+json": {
              "type": "string"
            }
          },
          "metadata": {},
          "execution_count": 49
        }
      ]
    },
    {
      "cell_type": "markdown",
      "source": [
        "# New Section"
      ],
      "metadata": {
        "id": "kC8qr0H4HJg9"
      }
    },
    {
      "cell_type": "markdown",
      "source": [
        "# New Section"
      ],
      "metadata": {
        "id": "unOEhTtRHKEs"
      }
    }
  ],
  "metadata": {
    "colab": {
      "collapsed_sections": [],
      "provenance": []
    },
    "kernelspec": {
      "display_name": "Python 3",
      "name": "python3"
    },
    "language_info": {
      "name": "python"
    }
  },
  "nbformat": 4,
  "nbformat_minor": 0
}