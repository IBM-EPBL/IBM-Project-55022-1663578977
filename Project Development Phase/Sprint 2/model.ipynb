{
  "nbformat": 4,
  "nbformat_minor": 0,
  "metadata": {
    "colab": {
      "provenance": []
    },
    "kernelspec": {
      "name": "python3",
      "display_name": "Python 3"
    },
    "language_info": {
      "name": "python"
    }
  },
  "cells": [
    {
      "cell_type": "code",
      "execution_count": 1,
      "metadata": {
        "colab": {
          "base_uri": "https://localhost:8080/"
        },
        "id": "JtZq1JyHZ-Wg",
        "outputId": "546f8241-2bf2-4bce-f51c-5b2f4b7344fa"
      },
      "outputs": [
        {
          "output_type": "stream",
          "name": "stdout",
          "text": [
            "Mounted at /content/drive\n"
          ]
        }
      ],
      "source": [
        "from google.colab import drive\n",
        "drive.mount('/content/drive')"
      ]
    },
    {
      "cell_type": "code",
      "source": [
        "#Import ImageDatageneratorLibrary\n",
        "\n",
        "from keras.preprocessing.image import ImageDataGenerator\n",
        "import numpy as np #numerical analysis \n",
        "from sklearn.model_selection import train_test_split\n",
        "from keras.models import Sequential, load_model\n",
        "from keras.callbacks import ModelCheckpoint, EarlyStopping, TensorBoard\n",
        "from keras.callbacks import ReduceLROnPlateau\n",
        "#Dense layer is regularly deeply connected neural network layer\n",
        "#MaxPooling2D to downsample the image\n",
        "from keras.layers import Conv2D, Dropout, Dense, Flatten, MaxPooling2D, SeparableConv2D, Activation, BatchNormalization\n",
        "import matplotlib.pyplot as plt\n",
        "import tensorflow as tf\n",
        "from keras.preprocessing import image\n",
        "from tensorflow.keras.utils import load_img\n",
        "from tensorflow.keras.utils import img_to_array "
      ],
      "metadata": {
        "id": "Jw6IZ7WJdVvo"
      },
      "execution_count": 2,
      "outputs": []
    },
    {
      "cell_type": "code",
      "source": [
        "#configure ImageDatGenerator Class \n",
        "#Define the parameters/arguments for ImageDataGenerator class\n",
        "train_datagen=ImageDataGenerator(rescale=1./255,\n",
        "                                 shear_range=0.2,\n",
        "                                 rotation_range=180,\n",
        "                                 zoom_range=0.2,\n",
        "                                 width_shift_range=0.2,\n",
        "                                height_shift_range=0.2,\n",
        "                                 horizontal_flip=True)\n",
        "test_datagen=ImageDataGenerator(rescale=1./255)"
      ],
      "metadata": {
        "id": "4dfQ28rFdXRD"
      },
      "execution_count": 3,
      "outputs": []
    },
    {
      "cell_type": "code",
      "source": [
        "#Applying ImageDataGenerator functionality to train data \n",
        "\n",
        "x_train =train_datagen.flow_from_directory(r\"/content/drive/MyDrive/dataset/train_set\",\n",
        "                                           target_size = (64,64),\n",
        "                                           batch_size=5,\n",
        "                                           color_mode='rgb',\n",
        "                                           class_mode='categorical')"
      ],
      "metadata": {
        "colab": {
          "base_uri": "https://localhost:8080/"
        },
        "id": "LDN3W6CNdqLd",
        "outputId": "19bd70e8-d65c-46ab-bfe2-bf5ed1bc9a7d"
      },
      "execution_count": 4,
      "outputs": [
        {
          "output_type": "stream",
          "name": "stdout",
          "text": [
            "Found 742 images belonging to 4 classes.\n"
          ]
        }
      ]
    },
    {
      "cell_type": "code",
      "source": [
        "#Applying ImageDataGenerator functionality to test data \n",
        "\n",
        "x_test =test_datagen.flow_from_directory(r\"/content/drive/MyDrive/dataset/test_set\",\n",
        "                                         target_size = (64,64), \n",
        "                                         batch_size=5,color_mode='rgb',\n",
        "                                         class_mode='categorical')"
      ],
      "metadata": {
        "colab": {
          "base_uri": "https://localhost:8080/"
        },
        "id": "KfU12CHFdqIX",
        "outputId": "6bf884f9-4a9e-4da8-baff-fbf4b04bcb55"
      },
      "execution_count": 5,
      "outputs": [
        {
          "output_type": "stream",
          "name": "stdout",
          "text": [
            "Found 198 images belonging to 4 classes.\n"
          ]
        }
      ]
    },
    {
      "cell_type": "code",
      "source": [
        "#initializing the model\n",
        "model=Sequential()\n",
        "\n",
        "#add convolutional, maxpooling and flatten layers\n",
        "model.add(Conv2D(32,(3,3),activation=\"relu\",input_shape=(64,64,3)))\n",
        "model.add(MaxPooling2D(pool_size=(2,2)))\n",
        "model.add(Conv2D(32,(3,3),activation=\"relu\"))\n",
        "model.add(MaxPooling2D(pool_size=(2,2)))\n",
        "model.add(Flatten())\n",
        "\n",
        "#add Dense Layer \n",
        "model.add(Dense(units=128,activation='relu'))\n",
        "model.add(Dense(units=4,activation='softmax'))"
      ],
      "metadata": {
        "id": "-0eaoz5Yocl2"
      },
      "execution_count": 6,
      "outputs": []
    },
    {
      "cell_type": "code",
      "source": [
        "model.summary()"
      ],
      "metadata": {
        "colab": {
          "base_uri": "https://localhost:8080/"
        },
        "id": "ptH3fhOyjFLM",
        "outputId": "016faa78-21d9-4006-e638-58aed380dbca"
      },
      "execution_count": 7,
      "outputs": [
        {
          "output_type": "stream",
          "name": "stdout",
          "text": [
            "Model: \"sequential\"\n",
            "_________________________________________________________________\n",
            " Layer (type)                Output Shape              Param #   \n",
            "=================================================================\n",
            " conv2d (Conv2D)             (None, 62, 62, 32)        896       \n",
            "                                                                 \n",
            " max_pooling2d (MaxPooling2D  (None, 31, 31, 32)       0         \n",
            " )                                                               \n",
            "                                                                 \n",
            " conv2d_1 (Conv2D)           (None, 29, 29, 32)        9248      \n",
            "                                                                 \n",
            " max_pooling2d_1 (MaxPooling  (None, 14, 14, 32)       0         \n",
            " 2D)                                                             \n",
            "                                                                 \n",
            " flatten (Flatten)           (None, 6272)              0         \n",
            "                                                                 \n",
            " dense (Dense)               (None, 128)               802944    \n",
            "                                                                 \n",
            " dense_1 (Dense)             (None, 4)                 516       \n",
            "                                                                 \n",
            "=================================================================\n",
            "Total params: 813,604\n",
            "Trainable params: 813,604\n",
            "Non-trainable params: 0\n",
            "_________________________________________________________________\n"
          ]
        }
      ]
    },
    {
      "cell_type": "code",
      "source": [
        "#configure the learning process\n",
        "model.compile(loss='categorical_crossentropy',\n",
        "              optimizer='adam',\n",
        "              metrics=['accuracy'])\n"
      ],
      "metadata": {
        "id": "tWOF7lybjfBm"
      },
      "execution_count": 8,
      "outputs": []
    },
    {
      "cell_type": "code",
      "source": [
        "x_test.class_indices"
      ],
      "metadata": {
        "colab": {
          "base_uri": "https://localhost:8080/"
        },
        "id": "7joLxTdSse2C",
        "outputId": "4b5aaf6b-49ca-43f2-c697-717e8a156e3a"
      },
      "execution_count": 9,
      "outputs": [
        {
          "output_type": "execute_result",
          "data": {
            "text/plain": [
              "{'Cyclone': 0, 'Earthquake': 1, 'Flood': 2, 'Wildfire': 3}"
            ]
          },
          "metadata": {},
          "execution_count": 9
        }
      ]
    },
    {
      "cell_type": "code",
      "source": [
        "#Training the model\n",
        "history = model.fit(x_train,epochs=20,\n",
        "                    steps_per_epoch=len(x_train),\n",
        "                    validation_data=x_test,validation_steps=len(x_test))"
      ],
      "metadata": {
        "colab": {
          "base_uri": "https://localhost:8080/"
        },
        "id": "L5mzr74_Z34U",
        "outputId": "94e71839-aaa2-4556-a05f-3484d35c1878"
      },
      "execution_count": 10,
      "outputs": [
        {
          "output_type": "stream",
          "name": "stdout",
          "text": [
            "Epoch 1/20\n",
            "149/149 [==============================] - 270s 2s/step - loss: 1.2815 - accuracy: 0.3706 - val_loss: 1.1783 - val_accuracy: 0.4040\n",
            "Epoch 2/20\n",
            "149/149 [==============================] - 42s 281ms/step - loss: 1.1604 - accuracy: 0.4582 - val_loss: 1.0726 - val_accuracy: 0.5101\n",
            "Epoch 3/20\n",
            "149/149 [==============================] - 48s 324ms/step - loss: 0.9874 - accuracy: 0.5876 - val_loss: 0.9062 - val_accuracy: 0.5808\n",
            "Epoch 4/20\n",
            "149/149 [==============================] - 45s 301ms/step - loss: 0.8932 - accuracy: 0.6226 - val_loss: 0.8050 - val_accuracy: 0.6970\n",
            "Epoch 5/20\n",
            "149/149 [==============================] - 43s 291ms/step - loss: 0.8784 - accuracy: 0.6496 - val_loss: 0.9248 - val_accuracy: 0.5808\n",
            "Epoch 6/20\n",
            "149/149 [==============================] - 42s 284ms/step - loss: 0.8306 - accuracy: 0.6806 - val_loss: 0.6897 - val_accuracy: 0.7323\n",
            "Epoch 7/20\n",
            "149/149 [==============================] - 42s 283ms/step - loss: 0.7764 - accuracy: 0.6739 - val_loss: 0.8975 - val_accuracy: 0.6414\n",
            "Epoch 8/20\n",
            "149/149 [==============================] - 43s 284ms/step - loss: 0.7434 - accuracy: 0.6658 - val_loss: 0.9050 - val_accuracy: 0.6465\n",
            "Epoch 9/20\n",
            "149/149 [==============================] - 44s 299ms/step - loss: 0.7358 - accuracy: 0.7075 - val_loss: 0.8125 - val_accuracy: 0.6717\n",
            "Epoch 10/20\n",
            "149/149 [==============================] - 43s 292ms/step - loss: 0.6966 - accuracy: 0.7102 - val_loss: 0.7443 - val_accuracy: 0.7475\n",
            "Epoch 11/20\n",
            "149/149 [==============================] - 47s 316ms/step - loss: 0.7155 - accuracy: 0.7116 - val_loss: 0.7683 - val_accuracy: 0.6869\n",
            "Epoch 12/20\n",
            "149/149 [==============================] - 44s 296ms/step - loss: 0.7164 - accuracy: 0.7156 - val_loss: 1.0192 - val_accuracy: 0.5960\n",
            "Epoch 13/20\n",
            "149/149 [==============================] - 45s 306ms/step - loss: 0.6896 - accuracy: 0.7183 - val_loss: 0.7163 - val_accuracy: 0.6919\n",
            "Epoch 14/20\n",
            "149/149 [==============================] - 43s 288ms/step - loss: 0.7179 - accuracy: 0.6941 - val_loss: 0.8700 - val_accuracy: 0.6364\n",
            "Epoch 15/20\n",
            "149/149 [==============================] - 44s 294ms/step - loss: 0.6409 - accuracy: 0.7278 - val_loss: 0.7170 - val_accuracy: 0.7677\n",
            "Epoch 16/20\n",
            "149/149 [==============================] - 45s 301ms/step - loss: 0.6722 - accuracy: 0.7332 - val_loss: 0.9258 - val_accuracy: 0.6061\n",
            "Epoch 17/20\n",
            "149/149 [==============================] - 45s 301ms/step - loss: 0.6560 - accuracy: 0.7251 - val_loss: 0.8222 - val_accuracy: 0.6566\n",
            "Epoch 18/20\n",
            "149/149 [==============================] - 44s 290ms/step - loss: 0.6546 - accuracy: 0.7399 - val_loss: 0.8685 - val_accuracy: 0.6566\n",
            "Epoch 19/20\n",
            "149/149 [==============================] - 47s 318ms/step - loss: 0.6449 - accuracy: 0.7372 - val_loss: 0.9230 - val_accuracy: 0.6313\n",
            "Epoch 20/20\n",
            "149/149 [==============================] - 45s 303ms/step - loss: 0.6066 - accuracy: 0.7453 - val_loss: 0.9054 - val_accuracy: 0.6212\n"
          ]
        }
      ]
    },
    {
      "cell_type": "code",
      "source": [
        "#save the model\n",
        "model.save('disaster.h5')\n",
        "model_json = model.to_json()\n",
        "with open(\"model-bw.json\", \"w\") as json_file:\n",
        "    json_file.write(model_json)"
      ],
      "metadata": {
        "id": "r3CxDVnEkjCf"
      },
      "execution_count": 12,
      "outputs": []
    },
    {
      "cell_type": "code",
      "source": [
        "\n",
        "#load the saved model\n",
        "model = load_model(\"disaster.h5\")"
      ],
      "metadata": {
        "id": "ZgqI91a5xryB"
      },
      "execution_count": 13,
      "outputs": []
    },
    {
      "cell_type": "code",
      "source": [
        "#load image\n",
        "img=load_img(r\"/content/drive/MyDrive/dataset/test_set/Earthquake/1321.jpg\",target_size=(64,64))\n",
        "x=img_to_array(img)\n",
        "x=np.expand_dims(x,axis=0)\n",
        "index=['Cyclone','Earthquake','Flood','Wildfire']\n",
        "\n",
        "#predict class \n",
        "y=np.argmax(model.predict(x),axis=1)\n",
        "print(index[int(y)])"
      ],
      "metadata": {
        "colab": {
          "base_uri": "https://localhost:8080/"
        },
        "id": "e_TBckDhkzYQ",
        "outputId": "777a4bc8-a54a-47ed-b9ce-3d793bd9f4d0"
      },
      "execution_count": 14,
      "outputs": [
        {
          "output_type": "stream",
          "name": "stdout",
          "text": [
            "1/1 [==============================] - 0s 136ms/step\n",
            "Earthquake\n"
          ]
        }
      ]
    },
    {
      "cell_type": "code",
      "source": [
        "#load image\n",
        "img=load_img(r\"/content/drive/MyDrive/dataset/test_set/Cyclone/921.jpg\",target_size=(64,64))\n",
        "x=img_to_array(img)\n",
        "x=np.expand_dims(x,axis=0)\n",
        "index=['Cyclone','Earthquake','Flood','Wildfire']\n",
        "\n",
        "#predict class \n",
        "y=np.argmax(model.predict(x),axis=1)\n",
        "print(index[int(y)])"
      ],
      "metadata": {
        "id": "DYmPDtPFmJVD",
        "colab": {
          "base_uri": "https://localhost:8080/"
        },
        "outputId": "eca32b07-21f3-4d86-9f3c-26e6c97b5901"
      },
      "execution_count": 15,
      "outputs": [
        {
          "output_type": "stream",
          "name": "stdout",
          "text": [
            "1/1 [==============================] - 0s 24ms/step\n",
            "Cyclone\n"
          ]
        }
      ]
    },
    {
      "cell_type": "code",
      "source": [
        "# Retrieve a list of accuracy results on training and validation data\n",
        "# sets for each training epoch\n",
        "acc = history.history['accuracy']\n",
        "val_acc = history.history['val_accuracy']\n",
        "\n",
        "# Retrieve a list of list results on training and validation data\n",
        "# sets for each training epoch\n",
        "loss = history.history['loss']\n",
        "val_loss = history.history['val_loss']\n",
        "\n",
        "# Get number of epochs\n",
        "epochs = range(len(acc))\n",
        "\n",
        "# Plot training and validation accuracy per epoch\n",
        "plt.plot(epochs, acc)\n",
        "plt.plot(epochs, val_acc)\n",
        "plt.title('Training and validation accuracy')\n",
        "\n",
        "plt.figure()\n",
        "\n",
        "# Plot training and validation loss per epoch\n",
        "plt.plot(epochs, loss)\n",
        "plt.plot(epochs, val_loss)\n",
        "plt.title('Training and validation loss')"
      ],
      "metadata": {
        "colab": {
          "base_uri": "https://localhost:8080/",
          "height": 563
        },
        "id": "NhoyO6_7Ltfp",
        "outputId": "e87e93e7-47d4-48b5-ff1c-36c25e97f38c"
      },
      "execution_count": 24,
      "outputs": [
        {
          "output_type": "execute_result",
          "data": {
            "text/plain": [
              "Text(0.5, 1.0, 'Training and validation loss')"
            ]
          },
          "metadata": {},
          "execution_count": 24
        },
        {
          "output_type": "display_data",
          "data": {
            "text/plain": [
              "<Figure size 432x288 with 1 Axes>"
            ],
            "image/png": "[encoded data removed]"
          },
          "metadata": {
            "needs_background": "light"
          }
        },
        {
          "output_type": "display_data",
          "data": {
            "text/plain": [
              "<Figure size 432x288 with 1 Axes>"
            ],
            "image/png": "[encoded data removed]"
          },
          "metadata": {
            "needs_background": "light"
          }
        }
      ]
    }
  ]
}